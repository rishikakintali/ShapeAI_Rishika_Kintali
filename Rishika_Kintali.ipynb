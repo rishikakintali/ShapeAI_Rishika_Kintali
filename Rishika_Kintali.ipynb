{
  "nbformat": 4,
  "nbformat_minor": 0,
  "metadata": {
    "colab": {
      "name": "Rishika Kintali.ipynb",
      "provenance": []
    },
    "kernelspec": {
      "name": "python3",
      "display_name": "Python 3"
    },
    "language_info": {
      "name": "python"
    }
  },
  "cells": [
    {
      "cell_type": "code",
      "metadata": {
        "colab": {
          "base_uri": "https://localhost:8080/"
        },
        "id": "dYQp_TvyR0hR",
        "outputId": "70290029-fd12-45d5-dea2-077925aa5a08"
      },
      "source": [
        "from keras.datasets import mnist\n",
        "data=mnist.load_data()"
      ],
      "execution_count": 1,
      "outputs": [
        {
          "output_type": "stream",
          "text": [
            "Downloading data from https://storage.googleapis.com/tensorflow/tf-keras-datasets/mnist.npz\n",
            "11493376/11490434 [==============================] - 0s 0us/step\n"
          ],
          "name": "stdout"
        }
      ]
    },
    {
      "cell_type": "code",
      "metadata": {
        "id": "WtixOQnER4Rx"
      },
      "source": [
        "((X_train,y_train),(X_test,y_test))= data"
      ],
      "execution_count": 4,
      "outputs": []
    },
    {
      "cell_type": "code",
      "metadata": {
        "id": "JdDFAYqER7M_"
      },
      "source": [
        "X_train=X_train.reshape((X_train.shape[0],28*28)).astype('float32')\n",
        "X_test=X_test.reshape((X_test.shape[0],28*28)).astype('float32')"
      ],
      "execution_count": 5,
      "outputs": []
    },
    {
      "cell_type": "code",
      "metadata": {
        "id": "RumlhqV5R_Lr"
      },
      "source": [
        "X_train=X_train/255\n",
        "X_test=X_test/255"
      ],
      "execution_count": 6,
      "outputs": []
    },
    {
      "cell_type": "code",
      "metadata": {
        "colab": {
          "base_uri": "https://localhost:8080/"
        },
        "id": "z3-eJaAuSQE-",
        "outputId": "69788878-4d7a-4dab-a2b6-0d69dfdd50db"
      },
      "source": [
        "from keras.utils import np_utils\n",
        "print(y_test.shape)\n",
        "y_train=np_utils.to_categorical(y_train)\n",
        "y_test=np_utils.to_categorical(y_test)\n",
        "num_classes=y_test.shape[1]\n",
        "print(y_test.shape)"
      ],
      "execution_count": 7,
      "outputs": [
        {
          "output_type": "stream",
          "text": [
            "(10000,)\n",
            "(10000, 10)\n"
          ],
          "name": "stdout"
        }
      ]
    },
    {
      "cell_type": "code",
      "metadata": {
        "id": "j6AI1t2mSuCV"
      },
      "source": [
        "from keras.models import Sequential\n",
        "from keras.layers import Dense"
      ],
      "execution_count": 9,
      "outputs": []
    },
    {
      "cell_type": "code",
      "metadata": {
        "id": "3IzugolxS5lt"
      },
      "source": [
        "model=Sequential()\n",
        "model.add(Dense(32,input_dim=28*28,activation='relu'))\n",
        "model.add(Dense(64,activation='relu'))\n",
        "model.add(Dense(10,activation='softmax'))"
      ],
      "execution_count": 10,
      "outputs": []
    },
    {
      "cell_type": "code",
      "metadata": {
        "id": "JpPuHXs8TvH4"
      },
      "source": [
        "model.compile(loss='categorical_crossentropy',optimizer='adam',metrics=['accuracy'])"
      ],
      "execution_count": 12,
      "outputs": []
    },
    {
      "cell_type": "code",
      "metadata": {
        "colab": {
          "base_uri": "https://localhost:8080/"
        },
        "id": "WZYKJnVVUOqP",
        "outputId": "f5d1c97a-b834-4bea-9572-791379a9fda4"
      },
      "source": [
        "model.summary()"
      ],
      "execution_count": 13,
      "outputs": [
        {
          "output_type": "stream",
          "text": [
            "Model: \"sequential\"\n",
            "_________________________________________________________________\n",
            "Layer (type)                 Output Shape              Param #   \n",
            "=================================================================\n",
            "dense (Dense)                (None, 32)                25120     \n",
            "_________________________________________________________________\n",
            "dense_1 (Dense)              (None, 64)                2112      \n",
            "_________________________________________________________________\n",
            "dense_2 (Dense)              (None, 10)                650       \n",
            "=================================================================\n",
            "Total params: 27,882\n",
            "Trainable params: 27,882\n",
            "Non-trainable params: 0\n",
            "_________________________________________________________________\n"
          ],
          "name": "stdout"
        }
      ]
    },
    {
      "cell_type": "code",
      "metadata": {
        "colab": {
          "base_uri": "https://localhost:8080/"
        },
        "id": "vEBJ-GCDUVSW",
        "outputId": "1c18d434-9884-476d-d69a-02e121bc88cc"
      },
      "source": [
        "model.fit(X_train,y_train,epochs=10,batch_size=100)"
      ],
      "execution_count": 14,
      "outputs": [
        {
          "output_type": "stream",
          "text": [
            "Epoch 1/10\n",
            "600/600 [==============================] - 2s 2ms/step - loss: 0.8033 - accuracy: 0.7537\n",
            "Epoch 2/10\n",
            "600/600 [==============================] - 1s 2ms/step - loss: 0.2121 - accuracy: 0.9367\n",
            "Epoch 3/10\n",
            "600/600 [==============================] - 1s 2ms/step - loss: 0.1552 - accuracy: 0.9537\n",
            "Epoch 4/10\n",
            "600/600 [==============================] - 1s 2ms/step - loss: 0.1306 - accuracy: 0.9604\n",
            "Epoch 5/10\n",
            "600/600 [==============================] - 1s 2ms/step - loss: 0.1114 - accuracy: 0.9669\n",
            "Epoch 6/10\n",
            "600/600 [==============================] - 1s 2ms/step - loss: 0.0957 - accuracy: 0.9709\n",
            "Epoch 7/10\n",
            "600/600 [==============================] - 1s 2ms/step - loss: 0.0843 - accuracy: 0.9744\n",
            "Epoch 8/10\n",
            "600/600 [==============================] - 1s 2ms/step - loss: 0.0762 - accuracy: 0.9765\n",
            "Epoch 9/10\n",
            "600/600 [==============================] - 1s 2ms/step - loss: 0.0697 - accuracy: 0.9784\n",
            "Epoch 10/10\n",
            "600/600 [==============================] - 1s 2ms/step - loss: 0.0639 - accuracy: 0.9811\n"
          ],
          "name": "stdout"
        },
        {
          "output_type": "execute_result",
          "data": {
            "text/plain": [
              "<tensorflow.python.keras.callbacks.History at 0x7ff5872b9850>"
            ]
          },
          "metadata": {
            "tags": []
          },
          "execution_count": 14
        }
      ]
    },
    {
      "cell_type": "code",
      "metadata": {
        "colab": {
          "base_uri": "https://localhost:8080/"
        },
        "id": "woraeOG7UlUl",
        "outputId": "3a13e821-2853-4416-c253-52ea51cf1a97"
      },
      "source": [
        "scores=model.evaluate(X_test,y_test)\n",
        "print(scores)"
      ],
      "execution_count": 15,
      "outputs": [
        {
          "output_type": "stream",
          "text": [
            "313/313 [==============================] - 0s 943us/step - loss: 0.1076 - accuracy: 0.9673\n",
            "[0.10755599290132523, 0.9672999978065491]\n"
          ],
          "name": "stdout"
        }
      ]
    }
  ]
}